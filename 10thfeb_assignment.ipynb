{
 "cells": [
  {
   "cell_type": "code",
   "execution_count": 1,
   "id": "8aacf6ca-f550-4b5a-9124-9d895152a9b1",
   "metadata": {},
   "outputs": [
    {
     "data": {
      "text/plain": [
       "'1 Which function is used to open a file? What are the different modes of opening a file? Explain each mode\\nof file opening.\\n\\nans:\\n\\nopen() is used to open a file.\\nthe various modes are:\\n\\n\"w\"- writing only, handle positioned at the beginning of the file\\n\"r\"- reading only, handle positioned at the beginning of the file\\n\"w+\"- writing and reading\\n\"r+\"- reading and writing\\n\"a\"- append for writing after the exsiting data if any, handle is positioned at the end of the file\\n\"a+\"- for appending or reading from the file.\\n\\n'"
      ]
     },
     "execution_count": 1,
     "metadata": {},
     "output_type": "execute_result"
    }
   ],
   "source": [
    "'''1 Which function is used to open a file? What are the different modes of opening a file? Explain each mode\n",
    "of file opening.\n",
    "\n",
    "ans:\n",
    "\n",
    "open() is used to open a file.\n",
    "the various modes are:\n",
    "\n",
    "\"w\"- writing only, handle positioned at the beginning of the file\n",
    "\"r\"- reading only, handle positioned at the beginning of the file\n",
    "\"w+\"- writing and reading\n",
    "\"r+\"- reading and writing\n",
    "\"a\"- append for writing after the exsiting data if any, handle is positioned at the end of the file\n",
    "\"a+\"- for appending or reading from the file.\n",
    "\n",
    "'''"
   ]
  },
  {
   "cell_type": "code",
   "execution_count": 2,
   "id": "b12bfe0a-a439-4402-909b-6c24f1b7f35b",
   "metadata": {},
   "outputs": [
    {
     "data": {
      "text/plain": [
       "' Why close() function is used? Why is it important to close a file?\\n   \\nans:\\n\\nThe close() function is used to close a file that was previously opened by a program. \\nIt is important to close a file because open files consume resources such as memory and processing power, \\nand if too many files are left open, a program can run out of resources and crash.\\n\\n'"
      ]
     },
     "execution_count": 2,
     "metadata": {},
     "output_type": "execute_result"
    }
   ],
   "source": [
    "'''2. Why close() function is used? Why is it important to close a file?\n",
    "   \n",
    "ans:\n",
    "\n",
    "The close() function is used to close a file that was previously opened by a program. \n",
    "It is important to close a file because open files consume resources such as memory and processing power, \n",
    "and if too many files are left open, a program can run out of resources and crash.\n",
    "\n",
    "'''"
   ]
  },
  {
   "cell_type": "code",
   "execution_count": 4,
   "id": "70353a54-82b6-40c0-ad62-b7c7fdd6f547",
   "metadata": {},
   "outputs": [],
   "source": [
    "'''3.Write a python program to create a text file. Write ‘I want to become a Data Scientist’ in that file. Then\n",
    "close the file. Open this file and read the content of the file.'''\n",
    "\n",
    "file=open(\"test5.txt\",'w+')\n",
    "file.write(\"I want to be a Data Scientist\")\n",
    "file.close()"
   ]
  },
  {
   "cell_type": "code",
   "execution_count": 5,
   "id": "726484a7-3e15-4f91-9e9f-6c37537e1ab6",
   "metadata": {},
   "outputs": [],
   "source": [
    "file=open(\"test5.txt\",'r')"
   ]
  },
  {
   "cell_type": "code",
   "execution_count": 6,
   "id": "da551693-c813-4238-a18d-5c77e892d56e",
   "metadata": {},
   "outputs": [
    {
     "data": {
      "text/plain": [
       "'I want to be a Data Scientist'"
      ]
     },
     "execution_count": 6,
     "metadata": {},
     "output_type": "execute_result"
    }
   ],
   "source": [
    "file.read()"
   ]
  },
  {
   "cell_type": "code",
   "execution_count": 9,
   "id": "dc9278da-16ce-4eed-94e8-ab0a9286eeee",
   "metadata": {},
   "outputs": [],
   "source": [
    "''' 4. Explain the following with python code: read(), readline() and readlines().'''\n",
    "\n",
    "\n",
    "# creating a text file with multiple lines.\n",
    "\n",
    "str=\"list of courses\\n1.Data Science\\n2.Web dev\\n3.App dev\\n\"\n",
    "\n",
    "file=open(\"test6.txt\",\"w\")\n",
    "file.write(str)\n",
    "file.close()"
   ]
  },
  {
   "cell_type": "code",
   "execution_count": 19,
   "id": "85546c87-f076-4df5-acd1-455007d07160",
   "metadata": {},
   "outputs": [],
   "source": [
    "# using various reading methods\n",
    "\n",
    "file=open(\"test6.txt\",'r')\n",
    "data1=file.read()# read() reads the whole text and returns it as a string\n",
    "file.seek(0)\n",
    "data2=file.readline()# readline() reads one line at a time. can be used with a for loop to readlines one by one\n",
    "file.seek(0)\n",
    "data3=file.readlines()#readlines() returns a list of all lines.\n",
    "file.seek(0)\n",
    "file.close()\n"
   ]
  },
  {
   "cell_type": "code",
   "execution_count": 13,
   "id": "8628dd0b-e33c-4011-beb4-78bd988a40a3",
   "metadata": {},
   "outputs": [
    {
     "name": "stdout",
     "output_type": "stream",
     "text": [
      "list of courses\n",
      "1.Data Science\n",
      "2.Web dev\n",
      "3.App dev\n",
      "\n",
      "list of courses\n",
      "\n",
      "['list of courses\\n', '1.Data Science\\n', '2.Web dev\\n', '3.App dev\\n']\n"
     ]
    }
   ],
   "source": [
    "print(data1)\n",
    "print(data2)\n",
    "print(data3)"
   ]
  },
  {
   "cell_type": "code",
   "execution_count": 20,
   "id": "f1e2debb-e93d-4f15-8d6d-b9ea29a1a4e6",
   "metadata": {},
   "outputs": [
    {
     "data": {
      "text/plain": [
       "\" 5.Explain why with statement is used with open(). What is the advantage of using with statement and\\nopen() together? \\n\\nans:\\n\\nThe with statement is used in Python to create a context in which resources are managed automatically.\\nWhen we use the with statement with open(), we can ensure that the file is automatically closed when we're done with it,\\n.The advantage of using with statement and open() together is that it simplifies the code and\\nensures that the file is properly closed, freeing up system resources, and avoiding issues such as file locks or data corruption.\\n\""
      ]
     },
     "execution_count": 20,
     "metadata": {},
     "output_type": "execute_result"
    }
   ],
   "source": [
    "''' 5.Explain why with statement is used with open(). What is the advantage of using with statement and\n",
    "open() together? \n",
    "\n",
    "ans:\n",
    "\n",
    "The with statement is used in Python to create a context in which resources are managed automatically.\n",
    "When we use the with statement with open(), we can ensure that the file is automatically closed when we're done with it,\n",
    ".The advantage of using with statement and open() together is that it simplifies the code and\n",
    "ensures that the file is properly closed, freeing up system resources, and avoiding issues such as file locks or data corruption.\n",
    "'''"
   ]
  },
  {
   "cell_type": "code",
   "execution_count": 23,
   "id": "a9d184c7-4637-48d1-bc4d-2604d5fe8004",
   "metadata": {},
   "outputs": [],
   "source": [
    "''' 6. Explain the write() and writelines() functions. Give a suitable example.\n",
    "\n",
    "ans:\n",
    "\n",
    "the write() is used to write a string into a file. whereas the writelines() is used to write a sequence of strings such as in the form \n",
    "lists or tupples etc into a file()'''\n",
    "\n",
    "with open(\"test6.txt\",'w+') as f:\n",
    "    f.write(\"abcdefghi\")\n",
    "    \n",
    "with open(\"test7.txt\",'w+') as f:\n",
    "    f.writelines([\"ab1\\n\",\"ab2\\n\",\"ab3\\n\"])"
   ]
  },
  {
   "cell_type": "code",
   "execution_count": 26,
   "id": "37efbafb-f239-4329-8a2e-1066f73bc062",
   "metadata": {},
   "outputs": [
    {
     "name": "stdout",
     "output_type": "stream",
     "text": [
      "abcdefghi\n",
      "ab1\n",
      "ab2\n",
      "ab3\n",
      "\n"
     ]
    }
   ],
   "source": [
    "file1=open(\"test6.txt\",'r')\n",
    "print(file1.read())\n",
    "\n",
    "file2=open(\"test7.txt\",'r')\n",
    "print(file2.read())"
   ]
  },
  {
   "cell_type": "code",
   "execution_count": null,
   "id": "7b112500-b1f7-41cd-9d42-c88059950cc9",
   "metadata": {},
   "outputs": [],
   "source": []
  }
 ],
 "metadata": {
  "kernelspec": {
   "display_name": "Python 3 (ipykernel)",
   "language": "python",
   "name": "python3"
  },
  "language_info": {
   "codemirror_mode": {
    "name": "ipython",
    "version": 3
   },
   "file_extension": ".py",
   "mimetype": "text/x-python",
   "name": "python",
   "nbconvert_exporter": "python",
   "pygments_lexer": "ipython3",
   "version": "3.10.8"
  }
 },
 "nbformat": 4,
 "nbformat_minor": 5
}
