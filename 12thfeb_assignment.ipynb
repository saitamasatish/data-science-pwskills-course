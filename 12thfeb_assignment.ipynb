{
 "cells": [
  {
   "cell_type": "code",
   "execution_count": 1,
   "id": "84bb1168-966b-4245-bfea-0c9df7ea8a7c",
   "metadata": {},
   "outputs": [
    {
     "data": {
      "text/plain": [
       "' In Python, an exception is an error that occurs during the execution of a program. \\nWhen an exception occurs, the normal flow of the program is disrupted, and the interpreter\\nraises an exception object that contains information about the error, such as its type and a \\nmessage that describes what went wrong.\\non the other hand , syntax errors  occur when the interpreter encounters code that does not \\nconform to the rules of the Python language.Examples of syntax errors include missing colons,\\nunmatched parentheses, and incorrect indentation.\\n\\nmajor difference between the exception and syntax error is that syntax errors are detected before\\nthe program is executed, while exceptions are detected during runtime'"
      ]
     },
     "execution_count": 1,
     "metadata": {},
     "output_type": "execute_result"
    }
   ],
   "source": [
    "#1\n",
    "\n",
    "''' In Python, an exception is an error that occurs during the execution of a program. \n",
    "When an exception occurs, the normal flow of the program is disrupted, and the interpreter\n",
    "raises an exception object that contains information about the error, such as its type and a \n",
    "message that describes what went wrong.\n",
    "on the other hand , syntax errors  occur when the interpreter encounters code that does not \n",
    "conform to the rules of the Python language.Examples of syntax errors include missing colons,\n",
    "unmatched parentheses, and incorrect indentation.\n",
    "\n",
    "major difference between the exception and syntax error is that syntax errors are detected before\n",
    "the program is executed, while exceptions are detected during runtime'''"
   ]
  },
  {
   "cell_type": "code",
   "execution_count": 2,
   "id": "e02f258f-81d1-45f2-a712-77292f5ea390",
   "metadata": {},
   "outputs": [
    {
     "ename": "ZeroDivisionError",
     "evalue": "division by zero",
     "output_type": "error",
     "traceback": [
      "\u001b[0;31m---------------------------------------------------------------------------\u001b[0m",
      "\u001b[0;31mZeroDivisionError\u001b[0m                         Traceback (most recent call last)",
      "Cell \u001b[0;32mIn[2], line 7\u001b[0m\n\u001b[1;32m      5\u001b[0m a\u001b[38;5;241m=\u001b[39m\u001b[38;5;241m5\u001b[39m\n\u001b[1;32m      6\u001b[0m b\u001b[38;5;241m=\u001b[39m\u001b[38;5;241m0\u001b[39m\n\u001b[0;32m----> 7\u001b[0m c\u001b[38;5;241m=\u001b[39m\u001b[43ma\u001b[49m\u001b[38;5;241;43m/\u001b[39;49m\u001b[43mb\u001b[49m\n",
      "\u001b[0;31mZeroDivisionError\u001b[0m: division by zero"
     ]
    }
   ],
   "source": [
    "#2\n",
    "''' when an exception is not handled then it would lead to run time error and cause the program\n",
    "to stop from further running'''\n",
    "\n",
    "a=5\n",
    "b=0\n",
    "c=a/b\n",
    "print(a)\n",
    "# for example in the above code due to the unhandled division by zero exception the code after a/b line doesn't run."
   ]
  },
  {
   "cell_type": "code",
   "execution_count": 3,
   "id": "d95586f6-4130-4f0c-8edc-e34a205d0f10",
   "metadata": {},
   "outputs": [
    {
     "name": "stdout",
     "output_type": "stream",
     "text": [
      "exception caught:  [Errno 2] No such file or directory: 'hello.txt'\n",
      "end of program\n"
     ]
    }
   ],
   "source": [
    "#3\n",
    "''' there are three statements which could be used to handle with exceptions, except, else, finally'''\n",
    "\n",
    "try:\n",
    "    file=open(\"hello.txt\",'r')\n",
    "except Exception as e:\n",
    "    print(\"exception caught: \",e)#used to catch the exception\n",
    "else:\n",
    "    print(\"file opened succesffully\")#executes if try block runs sucessfully\n",
    "finally:\n",
    "    print(\"end of program\")#executes always"
   ]
  },
  {
   "cell_type": "code",
   "execution_count": 4,
   "id": "e6c26363-bc76-4217-8cdb-145a2b14ac49",
   "metadata": {},
   "outputs": [
    {
     "data": {
      "text/plain": [
       "'custom exceptions in python are exceptions that are built by programmer rather than built in. they are used to deal with\\nspecific exceptions that the compiler can not detect on its own.'"
      ]
     },
     "execution_count": 4,
     "metadata": {},
     "output_type": "execute_result"
    }
   ],
   "source": [
    "#5\n",
    "'''custom exceptions in python are exceptions that are built by programmer rather than built in. they are used to deal with\n",
    "specific exceptions that the compiler can not detect on its own.'''\n",
    "\n",
    "\n",
    "\n",
    "\n"
   ]
  },
  {
   "cell_type": "code",
   "execution_count": 8,
   "id": "01741ae6-5d73-4da5-a181-c401df3ec31f",
   "metadata": {},
   "outputs": [
    {
     "name": "stdout",
     "output_type": "stream",
     "text": [
      "exception:  incorrect age\n"
     ]
    }
   ],
   "source": [
    "#6\n",
    "\n",
    "class validateage(Exception):\n",
    "    def __init__(self,msg):\n",
    "        self.msg=msg\n",
    "\n",
    "def age(a):\n",
    "    if a<0:\n",
    "        raise validateage(\"incorrect age\")\n",
    "    else :\n",
    "        return\n",
    "\n",
    "a=-10\n",
    "\n",
    "try:\n",
    "    age(a)\n",
    "except validateage as e:\n",
    "    print(\"exception: \", e)"
   ]
  },
  {
   "cell_type": "code",
   "execution_count": null,
   "id": "1204edbb-0015-422b-8f0e-bbca4e7cec12",
   "metadata": {},
   "outputs": [],
   "source": []
  }
 ],
 "metadata": {
  "kernelspec": {
   "display_name": "Python 3 (ipykernel)",
   "language": "python",
   "name": "python3"
  },
  "language_info": {
   "codemirror_mode": {
    "name": "ipython",
    "version": 3
   },
   "file_extension": ".py",
   "mimetype": "text/x-python",
   "name": "python",
   "nbconvert_exporter": "python",
   "pygments_lexer": "ipython3",
   "version": "3.10.8"
  }
 },
 "nbformat": 4,
 "nbformat_minor": 5
}
