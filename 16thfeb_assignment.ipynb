{
 "cells": [
  {
   "cell_type": "code",
   "execution_count": 1,
   "id": "75486917-8787-425a-baf1-aed417f13f7e",
   "metadata": {},
   "outputs": [
    {
     "data": {
      "text/plain": [
       "'1 What is a database? Differentiate between SQL and NoSQL databases.\\n\\nans:\\n\\nA database is a structured collection of data that is stored and \\norganized in a way that enables efficient access, retrieval, and modification. \\nDatabases are used to store and manage data for a wide range of applications, \\nincluding e-commerce, banking, healthcare, social media, and more.\\n\\n\\n'"
      ]
     },
     "execution_count": 1,
     "metadata": {},
     "output_type": "execute_result"
    }
   ],
   "source": [
    "'''1. What is a database? Differentiate between SQL and NoSQL databases.\n",
    "\n",
    "ans:\n",
    "\n",
    "A database is a structured collection of data that is stored and \n",
    "organized in a way that enables efficient access, retrieval, and modification. \n",
    "Databases are used to store and manage data for a wide range of applications, \n",
    "including e-commerce, banking, healthcare, social media, and more.\n",
    "\n",
    "SQL databases are relational databases.\n",
    "SQL databases use the Structured Query Language (SQL) to interact with the data. \n",
    "SQL databases are best suited for applications that require complex queries and transactional consistency, \n",
    "such as financial systems, online banking etc.\n",
    "\n",
    "NoSQL databases, on the other hand, are non-relational databases that store data in a variety of ways,\n",
    "including key-value pairs, documents, graphs, and column families.\n",
    "NoSQL databases are often used for large-scale distributed data storage, \n",
    "and they are designed to be highly scalable, flexible, and fast.\n",
    "\n",
    "'''"
   ]
  },
  {
   "cell_type": "code",
   "execution_count": null,
   "id": "dbc32757-3a77-48cd-bafd-89ba6e3c916d",
   "metadata": {},
   "outputs": [],
   "source": [
    "'''2. What is DDL? Explain why CREATE, DROP, ALTER, and TRUNCATE are used with an example. \n",
    "\n",
    "ans:\n",
    "\n",
    "DDL stands for Data Definition Language, which is a set of SQL commands used to create, modify, and delete the database objects \n",
    "such as tables, views, indexes, etc. DDL commands do not affect the data within the tables, but they define the structure \n",
    "and properties of the database objects.\n",
    "\n",
    "DDL commands and examples:\n",
    "\n",
    "1. CREATE TABLE employees(id INT PRIMARY KEY, name VARCHAR(20), salary FLOAT); # for creating a new table\n",
    "2. ALTER TABLE employees ADD COLUMN age INT; # for altering existing table\n",
    "3. TRUNCATE TABLE employees; # removes all the data from the table , keeps the structure.\n",
    "4. DROP TABLE employees; # removes data as well as the structure.\n",
    "\n",
    "'''"
   ]
  },
  {
   "cell_type": "code",
   "execution_count": 2,
   "id": "b180adaa-1ab2-4be3-87a6-f12dc40d6e90",
   "metadata": {},
   "outputs": [
    {
     "data": {
      "text/plain": [
       "\"3 What is DML? Explain INSERT, UPDATE, and DELETE with an example.\\n\\nans:\\n\\nDML is an abbreviation of Data Manipulation Language.\\nit is used to insert, modify, update and delete the existing records from a table.\\n\\nDML commands and examples:\\n1. INSERT INTO employees(101,'xyz',20000);\\n2. UPDATE employees SET salary=50000 where id=101;\\n3. DELETE FROM employees where id=102;\\n\\n\""
      ]
     },
     "execution_count": 2,
     "metadata": {},
     "output_type": "execute_result"
    }
   ],
   "source": [
    "'''3. What is DML? Explain INSERT, UPDATE, and DELETE with an example.\n",
    "\n",
    "ans:\n",
    "\n",
    "DML is an abbreviation of Data Manipulation Language.\n",
    "it is used to insert, modify, update and delete the existing records from a table.\n",
    "\n",
    "DML commands and examples:\n",
    "1. INSERT INTO employees(101,'xyz',20000);\n",
    "2. UPDATE employees SET salary=50000 where id=101;\n",
    "3. DELETE FROM employees where id=102;\n",
    "\n",
    "'''"
   ]
  },
  {
   "cell_type": "code",
   "execution_count": 4,
   "id": "2b2d1431-3ce9-4891-894c-48b9560e66f2",
   "metadata": {},
   "outputs": [
    {
     "data": {
      "text/plain": [
       "'4. What is DQL? Explain SELECT with an example.\\n\\nans:\\nDQL stands for Data Query Language, and it is a subset of SQL (Structured Query Language) \\nused for querying and retrieving data from relational databases.\\n\\nexample:\\nSELECT first_name, last_name, email\\nFROM users\\nWHERE age >= 18\\n\\n# will retrieve the first_name, last_name, and email of the records where age>=18'"
      ]
     },
     "execution_count": 4,
     "metadata": {},
     "output_type": "execute_result"
    }
   ],
   "source": [
    "'''4. What is DQL? Explain SELECT with an example.\n",
    "\n",
    "ans:\n",
    "DQL stands for Data Query Language, and it is a subset of SQL (Structured Query Language) \n",
    "used for querying and retrieving data from relational databases.\n",
    "\n",
    "example:\n",
    "SELECT first_name, last_name, email\n",
    "FROM users\n",
    "WHERE age >= 18\n",
    "\n",
    "# will retrieve the first_name, last_name, and email of the records where age>=18'''"
   ]
  },
  {
   "cell_type": "code",
   "execution_count": null,
   "id": "f02e3c65-33c8-43f5-adf7-9caac655a4c1",
   "metadata": {},
   "outputs": [],
   "source": [
    "'''5. Explain Primary Key and Foreign Key.\n",
    "\n",
    "A primary key is a unique identifier for a record in a database table. \n",
    "It is a column or a combination of columns that uniquely identifies each record in the table.\n",
    "A primary key can be used to enforce data integrity, as it ensures that each record in the table \n",
    "is unique and can be easily accessed and modified using the primary key.\n",
    "\n",
    "A foreign key, on the other hand, is a column or a combination of columns in a table that refers \n",
    "to the primary key of another table. It establishes a relationship between two tables in a database\n",
    "by linking records in one table to records in another table.\n",
    "\n",
    "'''"
   ]
  },
  {
   "cell_type": "code",
   "execution_count": 5,
   "id": "ac6d6425-9d4a-4739-a56c-dff101a3e262",
   "metadata": {},
   "outputs": [
    {
     "data": {
      "text/plain": [
       "'6. Write a python code to connect MySQL to python. Explain the cursor() and execute() method.\\n\\nimport mysql.connector\\n\\nmydb=mysql.connector.connect(\\n    host=\\'localhost\\'\\n    user=\\'abc\\'\\n    password=\\'password\\'\\n)\\n\\ncursor=mydb.cursor()\\ncursor.execute(\"CREATE TABLE student(id INT, name VARCHAR(10), class VARCHAR(10))\")\\nmydb.close()\\n\\nnote: The cursor() method is used to create an instance of the cursor class, \\n      execute() method is a part of the cursor class which can be used to execute SQL queries.\\n      \\n'"
      ]
     },
     "execution_count": 5,
     "metadata": {},
     "output_type": "execute_result"
    }
   ],
   "source": [
    "'''6. Write a python code to connect MySQL to python. Explain the cursor() and execute() method.\n",
    "\n",
    "import mysql.connector\n",
    "\n",
    "mydb=mysql.connector.connect(\n",
    "    host='localhost'\n",
    "    user='abc'\n",
    "    password='password'\n",
    ")\n",
    "\n",
    "cursor=mydb.cursor()\n",
    "cursor.execute(\"CREATE TABLE student(id INT, name VARCHAR(10), class VARCHAR(10))\")\n",
    "mydb.close()\n",
    "\n",
    "note: The cursor() method is used to create an instance of the cursor class, \n",
    "      execute() method is a part of the cursor class which can be used to execute SQL queries.\n",
    "      \n",
    "'''"
   ]
  },
  {
   "cell_type": "code",
   "execution_count": null,
   "id": "9b5a7a30-d29f-4b43-8a8f-a8bb9efcb60f",
   "metadata": {},
   "outputs": [],
   "source": [
    "'''7. order of execution : FROM, WHERE, GROUP BY , HAVING , ORDER BY.'''"
   ]
  },
  {
   "cell_type": "code",
   "execution_count": null,
   "id": "fd57ef64-4e6c-4150-a1eb-057e85293db2",
   "metadata": {},
   "outputs": [],
   "source": []
  }
 ],
 "metadata": {
  "kernelspec": {
   "display_name": "Python 3 (ipykernel)",
   "language": "python",
   "name": "python3"
  },
  "language_info": {
   "codemirror_mode": {
    "name": "ipython",
    "version": 3
   },
   "file_extension": ".py",
   "mimetype": "text/x-python",
   "name": "python",
   "nbconvert_exporter": "python",
   "pygments_lexer": "ipython3",
   "version": "3.10.8"
  }
 },
 "nbformat": 4,
 "nbformat_minor": 5
}
