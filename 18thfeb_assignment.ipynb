{
 "cells": [
  {
   "cell_type": "code",
   "execution_count": 3,
   "id": "2877568f-a681-4992-b874-118102dfffdb",
   "metadata": {},
   "outputs": [
    {
     "data": {
      "text/plain": [
       "'Q1. What is an API? Give an example, where an API is used in real life.\\n\\nans:\\n\\nAPI stands for application programming interface,it is a set of definitions and protocols that\\nhelps both homogenous and heterogenous applications to communicate with each other.\\n\\nThis can simplify app development, saving time and money.\\nAPIs give flexibility, simplify design, administration, and provide opportunities for innovation.\\n\\nin real life:\\n1.APIs are used to deliver material by streaming services such as Spotify and Netflix.\\n2.APIs are used by retail companies to connect with courier networks, ensuring that \\nshipments are picked up as soon as possible and tracked as they move.\\n3.APIs are used by automakers such as Tesla to provide software upgrades. \\n'"
      ]
     },
     "execution_count": 3,
     "metadata": {},
     "output_type": "execute_result"
    }
   ],
   "source": [
    "'''Q1. What is an API? Give an example, where an API is used in real life.\n",
    "\n",
    "ans:\n",
    "\n",
    "API stands for application programming interface,it is a set of definitions and protocols that\n",
    "helps both homogenous and heterogenous applications to communicate with each other.\n",
    "\n",
    "This can simplify app development, saving time and money.\n",
    "APIs give flexibility, simplify design, administration, and provide opportunities for innovation.\n",
    "\n",
    "in real life:\n",
    "1.APIs are used to deliver material by streaming services such as Spotify and Netflix.\n",
    "2.APIs are used by retail companies to connect with courier networks, ensuring that \n",
    "shipments are picked up as soon as possible and tracked as they move.\n",
    "3.APIs are used by automakers such as Tesla to provide software upgrades. \n",
    "'''"
   ]
  },
  {
   "cell_type": "code",
   "execution_count": null,
   "id": "c1927759-5c63-4086-a6a4-c077686a55ac",
   "metadata": {},
   "outputs": [],
   "source": [
    "'''Q2. Give advantages and disadvantages of using API.\n",
    "\n",
    "ans:\n",
    "\n",
    "Advantages-\n",
    "Access to APIs ensures more flexibility in information-transfer processes.It lets to create layers\n",
    "in apps in order to distribute information to different audiences.\n",
    "Furthermore, it can serve as a solution to create different experiences for users, \n",
    "letting protocols, functions, and commands be adapted according to specific demands.\n",
    "\n",
    "\n",
    "Disadvantages-\n",
    "As a single point of entry, an API is a gateway and\n",
    "can become a hacker's primary target. Once the API is compromised, \n",
    "all other applications and systems become vulnerable.\n",
    "\n",
    "'''"
   ]
  },
  {
   "cell_type": "code",
   "execution_count": null,
   "id": "162d9156-f985-4e18-8ea9-2108f2d541bb",
   "metadata": {},
   "outputs": [],
   "source": [
    "'''Q3. What is a Web API? Differentiate between API and Web API.\n",
    "\n",
    "ans:\n",
    "A web based API is a subset of API that is used to send and receive data over internet, specifically based on HTTP protocol.\n",
    "API generally is used to establish communication between 2 different systems they could be homogenous or heterogenous ,\n",
    "and they could be based on different protocols such as TCP/IP, SMTP , HTTP.\n",
    "where Web API is a subset of API that is specifically based on HTTP protocol which is a client server based protocol.\n",
    "\n",
    "'''"
   ]
  },
  {
   "cell_type": "code",
   "execution_count": null,
   "id": "98827176-91d5-4b43-bfaf-2f57d81d5473",
   "metadata": {},
   "outputs": [],
   "source": [
    "'''Q4. Explain REST and SOAP Architecture. Mention shortcomings of SOAP.\n",
    "\n",
    "ans:\n",
    "\n",
    "REST architecture- Relies on REST (Representational State Transfer),Generally transports data in JSON.\n",
    "It is based on URI. Because REST follows stateless model, REST does not enforces message format \n",
    "as XML or JSON etc.\n",
    "It works with GET, POST, PUT, DELETE and is Less structured and hence less bulky data.\n",
    "\n",
    "SOAP architecture- Transports data in standard XML format.Because it is XML based and relies on SOAP, \n",
    "it works with WSDL. Highly structured/typed, designed with large enterprise applications in mind.\n",
    "\n",
    "'''"
   ]
  }
 ],
 "metadata": {
  "kernelspec": {
   "display_name": "Python 3 (ipykernel)",
   "language": "python",
   "name": "python3"
  },
  "language_info": {
   "codemirror_mode": {
    "name": "ipython",
    "version": 3
   },
   "file_extension": ".py",
   "mimetype": "text/x-python",
   "name": "python",
   "nbconvert_exporter": "python",
   "pygments_lexer": "ipython3",
   "version": "3.10.8"
  }
 },
 "nbformat": 4,
 "nbformat_minor": 5
}
