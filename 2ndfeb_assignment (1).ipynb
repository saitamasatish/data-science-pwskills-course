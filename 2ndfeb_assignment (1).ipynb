{
 "cells": [
  {
   "cell_type": "code",
   "execution_count": 1,
   "id": "9411c70e-7e6e-4e23-b3d8-8ae37236657e",
   "metadata": {},
   "outputs": [],
   "source": [
    "#ans: 1\n",
    "#tuples are indexed , ordered, can contain duplicate values.\n",
    "#yes tupples are immutable."
   ]
  },
  {
   "cell_type": "code",
   "execution_count": null,
   "id": "cfa05a3c-3207-4f10-ab3e-363f306e9295",
   "metadata": {},
   "outputs": [],
   "source": [
    "#ans: 2\n",
    "# tupple has only two methods, index and count. it doesnt have any other method as in lists as it is immutable.\n",
    "\n"
   ]
  },
  {
   "cell_type": "code",
   "execution_count": 2,
   "id": "547a9235-245d-4800-b988-be8eeb05223e",
   "metadata": {},
   "outputs": [
    {
     "name": "stdout",
     "output_type": "stream",
     "text": [
      "{1, 2, 3, 4}\n"
     ]
    }
   ],
   "source": [
    "# ans: 3\n",
    "#set doesnt allow duplicates\n",
    "l1=[1, 1, 1, 2, 1, 3, 1, 4, 2, 1, 2, 2, 2, 3, 2, 4, 3, 1, 3, 2, 3, 3, 3, 4, 4, 1, 4, 2, 4, 3, 4, 4]\n",
    "l1=set(l1)\n",
    "print(l1)"
   ]
  },
  {
   "cell_type": "code",
   "execution_count": 5,
   "id": "56c81058-2705-4e7a-9d56-404bf4ca00e1",
   "metadata": {},
   "outputs": [
    {
     "name": "stdout",
     "output_type": "stream",
     "text": [
      "{1, 2, 3, 4, 5}\n",
      "{1, 2, 3, 4, 5}\n"
     ]
    }
   ],
   "source": [
    "# ans: 4\n",
    "#Both set.update() and set.union() perform the union operation. However, set.update() adds all missing elements to the set on which it is called whereas set.union() creates a new set. Consequently, the return value of set.update() is None and the return value of set.union() is a set.\n",
    "\n",
    "set1={1,2,3}\n",
    "set2={3,4,5}\n",
    "\n",
    "set3=set1.union(set2)\n",
    "set1.update(set2)\n",
    "print(set1)\n",
    "print(set3)"
   ]
  },
  {
   "cell_type": "code",
   "execution_count": 6,
   "id": "b6c3642d-b07f-48c6-9b9c-3adae4e7a50b",
   "metadata": {},
   "outputs": [
    {
     "data": {
      "text/plain": [
       "{'a': ['A', 'B', 'C'], 'b': ['A', 'B', 'C']}"
      ]
     },
     "execution_count": 6,
     "metadata": {},
     "output_type": "execute_result"
    }
   ],
   "source": [
    "# ans: 5\n",
    "# A dictionary is a collection of key-value pairs, where each key is unique and maps to a specific value. It is unordered.\n",
    "student = {'name': 'John', 'age': 25, 'courses': ['Math', 'Science']}\n",
    "print(student)\n"
   ]
  },
  {
   "cell_type": "code",
   "execution_count": null,
   "id": "41860310-e391-42b6-a069-05efc2f37781",
   "metadata": {},
   "outputs": [],
   "source": [
    "# ans: 6\n",
    "# yes we can create nested dictionary\n",
    "\n",
    "nested_dict={\n",
    "   '1':{'a':['A','B','C'],'b':['A','B','C']},\n",
    "   '2':{'c':['A','B','C'],'d':['A','B','C']},\n",
    "}\n",
    "\n",
    "nested_dict['1']"
   ]
  },
  {
   "cell_type": "code",
   "execution_count": 8,
   "id": "aaed0dff-44f9-4fe2-aad6-6f90b2af8a2f",
   "metadata": {},
   "outputs": [
    {
     "name": "stdout",
     "output_type": "stream",
     "text": [
      "{'course': 'data science'}\n",
      "{'course': 'data science', 'topic': ['python', 'machine learning', 'deep learning']}\n"
     ]
    }
   ],
   "source": [
    "# ans: 7\n",
    "\n",
    "d1={'course':'data science'}\n",
    "print(d1)\n",
    "l1=['python', 'machine learning', 'deep learning']\n",
    "d1.setdefault('topic',l1)\n",
    "print(d1)"
   ]
  },
  {
   "cell_type": "code",
   "execution_count": 14,
   "id": "3fb46074-e198-4b17-b0cc-4697a61661c8",
   "metadata": {},
   "outputs": [
    {
     "name": "stdout",
     "output_type": "stream",
     "text": [
      "['Sport', 'Teams']\n",
      "['Cricket', ['India', 'Australia', 'England', 'South Africa', 'Sri Lanka', 'New Zealand']]\n",
      "[('Sport', 'Cricket'), ('Teams', ['India', 'Australia', 'England', 'South Africa', 'Sri Lanka', 'New Zealand'])]\n"
     ]
    }
   ],
   "source": [
    "# ans: 8\n",
    "# the three view objects in dictionary are: keys(), values(), items().\n",
    "dict1 = {'Sport': 'Cricket' , 'Teams': ['India', 'Australia', 'England', 'South Africa', 'Sri Lanka', 'New Zealand']}\n",
    "\n",
    "print(list(dict1.keys()))\n",
    "print(list(dict1.values()))\n",
    "print(list(dict1.items()))\n",
    "      \n",
    "\n"
   ]
  },
  {
   "cell_type": "code",
   "execution_count": null,
   "id": "06f50523-71a6-443b-b0f3-d99efa6bfe25",
   "metadata": {},
   "outputs": [],
   "source": []
  },
  {
   "cell_type": "code",
   "execution_count": null,
   "id": "2324dfad-b668-45c5-818e-00b699130673",
   "metadata": {},
   "outputs": [],
   "source": []
  },
  {
   "cell_type": "code",
   "execution_count": null,
   "id": "1852d26c-2921-4451-9126-af70b7fe849a",
   "metadata": {},
   "outputs": [],
   "source": []
  }
 ],
 "metadata": {
  "kernelspec": {
   "display_name": "Python 3 (ipykernel)",
   "language": "python",
   "name": "python3"
  },
  "language_info": {
   "codemirror_mode": {
    "name": "ipython",
    "version": 3
   },
   "file_extension": ".py",
   "mimetype": "text/x-python",
   "name": "python",
   "nbconvert_exporter": "python",
   "pygments_lexer": "ipython3",
   "version": "3.10.8"
  }
 },
 "nbformat": 4,
 "nbformat_minor": 5
}
