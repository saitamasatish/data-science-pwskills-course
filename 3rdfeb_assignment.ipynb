{
 "cells": [
  {
   "cell_type": "code",
   "execution_count": 1,
   "id": "d837139d-2855-49a1-9b10-577929dec1a2",
   "metadata": {},
   "outputs": [
    {
     "data": {
      "text/plain": [
       "[1, 3, 5, 7, 9, 11, 13, 15, 17, 19, 21, 23]"
      ]
     },
     "execution_count": 1,
     "metadata": {},
     "output_type": "execute_result"
    }
   ],
   "source": [
    "#Q1. Which keyword is used to create a function? Create a function to return a list of odd numbers in the  range of 1 to 25. \n",
    "# def\n",
    "\n",
    "def returnodd():\n",
    "    n=[]\n",
    "    for i in range(25):\n",
    "        if i%2!=0:\n",
    "            n.append(i)\n",
    "    return n\n",
    "\n",
    "returnodd()\n"
   ]
  },
  {
   "cell_type": "code",
   "execution_count": 8,
   "id": "45dcc667-ef1e-4cc2-81b9-6a8eddc545c3",
   "metadata": {},
   "outputs": [
    {
     "data": {
      "text/plain": [
       "[1, 2, 3, 'e', 'f']"
      ]
     },
     "execution_count": 8,
     "metadata": {},
     "output_type": "execute_result"
    }
   ],
   "source": [
    "#Q2. Why *args and **kwargs is used in some functions? Create a function each for *args and **kwargs to  demonstrate their use. \n",
    "# *args: to store multiple values, **kwargs to store multiple key, value pairs \n",
    "\n",
    "def returnint(*args):\n",
    "    n=[]\n",
    "    for i in args:\n",
    "        if type(i)==int:\n",
    "            n.append(i)\n",
    "    return n\n",
    "returnint(1,2,3,'a')\n",
    "\n",
    "def returnlistvalues(**kwargs):\n",
    "    n=[]\n",
    "    for i in kwargs.keys():\n",
    "        if type(kwargs[i])==list:\n",
    "            n.extend(kwargs[i])\n",
    "    return n\n",
    "\n",
    "returnlistvalues(a='a',b='b',c=[1,2,3],d=['e','f'])"
   ]
  },
  {
   "cell_type": "code",
   "execution_count": 10,
   "id": "fe23de46-084e-47d1-8560-83b3f9cce57e",
   "metadata": {},
   "outputs": [
    {
     "name": "stdout",
     "output_type": "stream",
     "text": [
      "2\n",
      "4\n",
      "6\n",
      "8\n",
      "10\n"
     ]
    }
   ],
   "source": [
    "#Q3.  What is an iterator in python? Name the method used to initialise the iterator object and the method  used for iteration. Use these methods to print the first five elements of the given list [2, 4, 6, 8, 10, 12, 14, 16,  18, 20]. \n",
    "# iterator is an object that could be iterated upon all its values. it is initialised by the __iter__(), and iterated through __next__() function.\n",
    "\n",
    "lst=[2, 4, 6, 8, 10, 12, 14, 16,  18, 20]\n",
    "it=iter(lst)\n",
    "for i in range(5):\n",
    "    print(next(it))\n",
    "    "
   ]
  },
  {
   "cell_type": "code",
   "execution_count": 11,
   "id": "b2aef3ae-f730-49e6-8eb7-b260cd306371",
   "metadata": {},
   "outputs": [
    {
     "name": "stdout",
     "output_type": "stream",
     "text": [
      "1\n",
      "2\n",
      "3\n",
      "4\n",
      "5\n"
     ]
    }
   ],
   "source": [
    "#Q4.  What is a generator function in python? Why yield keyword is used? Give an example of a generator  function. \n",
    "#generator function is used to return values one by one just like an iterator. yield keyword is used in place of return to return values one by one.\n",
    "\n",
    "def returnn(n):\n",
    "    for i in range(1,n+1):\n",
    "        yield i\n",
    "\n",
    "for j in returnn(5):\n",
    "    print(j)"
   ]
  },
  {
   "cell_type": "code",
   "execution_count": null,
   "id": "ffc80c42-b568-4c0d-b5fe-6ffa2d395b32",
   "metadata": {},
   "outputs": [],
   "source": [
    "#Q5. Create a generator function for prime numbers less than 1000. Use the next() method to print the  first 20 prime numbers. \n",
    "#Note: Create your assignment in Jupyter notebook and upload it to GitHub & share that GitHub repository   link through your dashboard"
   ]
  },
  {
   "cell_type": "code",
   "execution_count": 20,
   "id": "6656621b-498d-4abf-94f0-051eafcdb87b",
   "metadata": {},
   "outputs": [
    {
     "name": "stdout",
     "output_type": "stream",
     "text": [
      "2\n",
      "3\n",
      "5\n",
      "7\n",
      "11\n",
      "13\n",
      "17\n",
      "19\n",
      "23\n",
      "29\n",
      "31\n",
      "37\n",
      "41\n",
      "43\n",
      "47\n",
      "53\n",
      "59\n",
      "61\n",
      "67\n",
      "71\n"
     ]
    }
   ],
   "source": [
    "\n",
    "def first_1000_primenos():\n",
    "    yield 2\n",
    "    for i in range(3,1000):\n",
    "        for j in range(2,i):\n",
    "            flag=0\n",
    "            if i%j==0:\n",
    "                flag=-1\n",
    "                break\n",
    "        if flag==0:\n",
    "            yield i\n",
    "\n",
    "it=first_1000_primenos()\n",
    "for i in range(20):\n",
    "    print(next(it))\n",
    "       \n",
    "                \n",
    "            \n",
    "\n"
   ]
  },
  {
   "cell_type": "code",
   "execution_count": null,
   "id": "d3fab0a7-5682-450c-a759-8e025ad981af",
   "metadata": {},
   "outputs": [],
   "source": []
  }
 ],
 "metadata": {
  "kernelspec": {
   "display_name": "Python 3 (ipykernel)",
   "language": "python",
   "name": "python3"
  },
  "language_info": {
   "codemirror_mode": {
    "name": "ipython",
    "version": 3
   },
   "file_extension": ".py",
   "mimetype": "text/x-python",
   "name": "python",
   "nbconvert_exporter": "python",
   "pygments_lexer": "ipython3",
   "version": "3.10.8"
  }
 },
 "nbformat": 4,
 "nbformat_minor": 5
}
