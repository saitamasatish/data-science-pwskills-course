{
 "cells": [
  {
   "cell_type": "code",
   "execution_count": 1,
   "id": "d56ccb2a-f2f2-4e64-a8fc-b22c623b108a",
   "metadata": {},
   "outputs": [],
   "source": [
    "#1\n",
    "#Class is a blueprint or a template to define the behavior of a group of similar objects.\n",
    "#An object is an instance of a class, created at runtime. For example, a class \"Car\" \n",
    "#can have properties like model, color, make, etc. and methods like drive, stop, etc."
   ]
  },
  {
   "cell_type": "code",
   "execution_count": null,
   "id": "79c72273-4d7e-410c-bc1d-8e6ca8582f87",
   "metadata": {},
   "outputs": [],
   "source": [
    "#2 The four pillars of OOPs are:\n",
    "\n",
    "#Encapsulation: Wrapping of data and methods that operate on the data within an object.\n",
    "#Abstraction: Hiding complexity from the user and exposing only relevant information.\n",
    "#Inheritance: Inheriting attributes and behaviors from a parent class to a child class.\n",
    "#Polymorphism: Ability of an object to take multiple forms."
   ]
  },
  {
   "cell_type": "code",
   "execution_count": 2,
   "id": "43d63a18-c267-45bd-8987-5d36112b06bf",
   "metadata": {},
   "outputs": [],
   "source": [
    "#3\n",
    "#The __init__() function is a special method in Python classes that is executed automatically \n",
    "#whenever a new instance of the class is created. It is used to initialize the attributes of the class.\n",
    "\n",
    "# example:\n",
    "class animal:\n",
    "    def __init__(self, species, weight):\n",
    "        self.species=species\n",
    "        self.weight=weight\n",
    "a1= animal('cheetah',60)"
   ]
  },
  {
   "cell_type": "code",
   "execution_count": null,
   "id": "f3214e39-48fc-469d-9079-e1c1e068c397",
   "metadata": {},
   "outputs": [],
   "source": [
    "#4\n",
    "#self is a reference to the instance of the class, and it is used to access the attributes and methods of the class. For example:\n",
    "\n",
    "class animal:\n",
    "    def __init__(self, species, weight):\n",
    "        self.species=species\n",
    "        self.weight=weight\n",
    "    def display(self):\n",
    "        print(f\"\")\n",
    "a1= animal('cheetah',60)"
   ]
  },
  {
   "cell_type": "code",
   "execution_count": null,
   "id": "68c28324-ccdf-4165-9a19-3cda22601159",
   "metadata": {},
   "outputs": [],
   "source": []
  },
  {
   "cell_type": "code",
   "execution_count": null,
   "id": "afe1c58c-d1bb-45ef-ba4f-63be6a586c14",
   "metadata": {},
   "outputs": [],
   "source": []
  },
  {
   "cell_type": "code",
   "execution_count": null,
   "id": "bf3f15b5-8840-4673-bb16-b1743a2d039a",
   "metadata": {},
   "outputs": [],
   "source": []
  },
  {
   "cell_type": "code",
   "execution_count": null,
   "id": "b25bf9db-8a19-4e4e-8cb1-cd8310e22e0d",
   "metadata": {},
   "outputs": [],
   "source": []
  },
  {
   "cell_type": "code",
   "execution_count": null,
   "id": "2261aa4d-4596-42f1-9d53-a4b46ca8308c",
   "metadata": {},
   "outputs": [],
   "source": []
  },
  {
   "cell_type": "code",
   "execution_count": null,
   "id": "bb7e98d7-4906-46f1-b901-1b6bf6878a27",
   "metadata": {},
   "outputs": [],
   "source": []
  },
  {
   "cell_type": "code",
   "execution_count": null,
   "id": "7c7dc653-b692-4b44-bde2-6610df50af38",
   "metadata": {},
   "outputs": [],
   "source": []
  }
 ],
 "metadata": {
  "kernelspec": {
   "display_name": "Python 3 (ipykernel)",
   "language": "python",
   "name": "python3"
  },
  "language_info": {
   "codemirror_mode": {
    "name": "ipython",
    "version": 3
   },
   "file_extension": ".py",
   "mimetype": "text/x-python",
   "name": "python",
   "nbconvert_exporter": "python",
   "pygments_lexer": "ipython3",
   "version": "3.10.8"
  }
 },
 "nbformat": 4,
 "nbformat_minor": 5
}
