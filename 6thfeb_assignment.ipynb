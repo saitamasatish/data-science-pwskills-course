{
 "cells": [
  {
   "cell_type": "code",
   "execution_count": 12,
   "id": "d20b501a-39ff-455a-a20d-0b24b2bfd6d1",
   "metadata": {},
   "outputs": [
    {
     "name": "stdout",
     "output_type": "stream",
     "text": [
      "[1, 2, 3, 4, 66, 34, 67, 44, 45, 78, 22, 55, 56, 89, 61]\n",
      "205003808312138035200\n"
     ]
    }
   ],
   "source": [
    "#1\n",
    "from functools import reduce\n",
    "list1 = [1,2,3,4, [44,55,66, True], False, (34,56,78,89,34), {1,2,3,3,2,1}, {1:34, \"key2\": [55, 67, 78, 89], 4: (45,22, 61, 34)}, [56, 'data science'], 'Machine Learning']\n",
    "\n",
    "def func(l1):\n",
    "    l=[]\n",
    "    for i in l1:\n",
    "        if type(i)==int:\n",
    "            l.append(i)\n",
    "        elif type(i)==list:\n",
    "            for j in i:\n",
    "                if type(j)==int:\n",
    "                    l.append(j)\n",
    "        elif type(i)==tuple:\n",
    "            for j in i:\n",
    "                if type(j)==int:\n",
    "                    l.append(j) \n",
    "        elif type(i)==set:\n",
    "            for j in i:\n",
    "                if type(j)==int:\n",
    "                    l.append(j) \n",
    "        elif type(i)==dict:\n",
    "            for j in i.keys():\n",
    "                if type(j)==int:\n",
    "                    l.append(j)\n",
    "            for j in i.values():\n",
    "                if type(j)==int:\n",
    "                    l.append(j)\n",
    "                elif type(j)==list:\n",
    "                    for k in j:\n",
    "                        if type(k)==int:\n",
    "                            l.append(k)\n",
    "                elif type(j)==tuple:\n",
    "                    for k in j:\n",
    "                        if type(k)==int:\n",
    "                            l.append(k) \n",
    "    return l     \n",
    "    \n",
    "l1=func(list1)\n",
    "l1=list(set(l1))\n",
    "\n",
    "print(l1)\n",
    "x=reduce(lambda x,y: x*y, l1)\n",
    "print(x)"
   ]
  },
  {
   "cell_type": "code",
   "execution_count": 15,
   "id": "7fb1ec25-b190-4c0c-b4b9-9d3d76b93489",
   "metadata": {},
   "outputs": [],
   "source": [
    "#2\n",
    "str1=\"I want to become a Data Scientist.\"\n"
   ]
  },
  {
   "cell_type": "code",
   "execution_count": 18,
   "id": "32c3de47-e006-46de-a404-55d640f46e75",
   "metadata": {},
   "outputs": [],
   "source": [
    "str1=str1.lower()\n",
    "str1=str1.replace('a','z').replace('b','y').replace('c','x').replace(' ','$')"
   ]
  },
  {
   "cell_type": "code",
   "execution_count": 19,
   "id": "11418573-27cf-4005-ac24-d440d901f9d0",
   "metadata": {},
   "outputs": [
    {
     "name": "stdout",
     "output_type": "stream",
     "text": [
      "i$wznt$to$yexome$z$dztz$sxientist.\n"
     ]
    }
   ],
   "source": [
    "\n",
    "print(str1)"
   ]
  },
  {
   "cell_type": "code",
   "execution_count": null,
   "id": "e31174d3-3f63-4399-aceb-2c1ca700cb79",
   "metadata": {},
   "outputs": [],
   "source": []
  }
 ],
 "metadata": {
  "kernelspec": {
   "display_name": "Python 3 (ipykernel)",
   "language": "python",
   "name": "python3"
  },
  "language_info": {
   "codemirror_mode": {
    "name": "ipython",
    "version": 3
   },
   "file_extension": ".py",
   "mimetype": "text/x-python",
   "name": "python",
   "nbconvert_exporter": "python",
   "pygments_lexer": "ipython3",
   "version": "3.10.8"
  }
 },
 "nbformat": 4,
 "nbformat_minor": 5
}
