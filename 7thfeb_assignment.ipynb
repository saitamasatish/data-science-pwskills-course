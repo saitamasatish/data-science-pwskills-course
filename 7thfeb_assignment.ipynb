{
 "cells": [
  {
   "cell_type": "code",
   "execution_count": 5,
   "id": "e29eb5d7-5cf9-4211-b8f8-ddb021192326",
   "metadata": {},
   "outputs": [
    {
     "name": "stdout",
     "output_type": "stream",
     "text": [
      "True\n",
      "False\n"
     ]
    }
   ],
   "source": [
    "#1\n",
    "def check_validity(s1):\n",
    "    flag=1\n",
    "    count_ucase=0\n",
    "    count_lcase=0\n",
    "    count_number=0\n",
    "    count_special_char=0\n",
    "    special_char=\"@_!#$%^&*()<>?/|}{~:\"\n",
    "    for i in s1:\n",
    "        if i.isupper():\n",
    "            count_ucase+=1\n",
    "        elif i.islower():\n",
    "            count_lcase+=1\n",
    "        elif i.isdigit():\n",
    "            count_number+=1\n",
    "        elif i in special_char:\n",
    "            count_special_char+=1\n",
    "            \n",
    "    if  count_ucase<2 or count_lcase<2 or count_number<1 or count_special_char<3 or len(s1)!=10 :\n",
    "        flag=0\n",
    "    \n",
    "    return bool(flag)\n",
    "\n",
    "\n",
    "print(check_validity(\"UUsash1***\"))\n",
    "print(check_validity(\"satish\"))\n",
    "    \n",
    "    \n",
    "        \n",
    "        "
   ]
  },
  {
   "cell_type": "code",
   "execution_count": 26,
   "id": "1e1bae90-3b6f-4b2b-8753-a9d0e6d60c91",
   "metadata": {},
   "outputs": [
    {
     "name": "stdout",
     "output_type": "stream",
     "text": [
      "True\n",
      "True\n",
      "[('orange', 80), ('mango', 99), ('grapes', 1000)]\n",
      "squares of number from 1 to 10 [1, 4, 9, 16, 25, 36, 49, 64, 81, 100]\n",
      "cube root of numbers from 1 to 10 [1.0, 1.2599210498948732, 1.4422495703074083, 1.5874010519681994, 1.7099759466766968, 1.8171205928321397, 1.912931182772389, 2.0, 2.080083823051904, 2.154434690031884]\n",
      "[1, 3, 5, 7, 9]\n",
      "[1, 2, 3, 4, 5, 6]\n",
      "[-5, -4, -3, -2, -1]\n"
     ]
    }
   ],
   "source": [
    "#2\n",
    "#Check if the string starts with a particular letter\n",
    "\n",
    "c1=lambda x: True if x[0]=='s' else False\n",
    "print(c1('satish'))\n",
    "\n",
    "# Check if the string is numericY\n",
    "\n",
    "c2=lambda x: True if x.isnumeric() else False\n",
    "print(c2('12'))\n",
    "\n",
    "# Sort a list of tuples having fruit names and their quantity.\n",
    "l1=[(\"mango\",99),(\"orange\",80), (\"grapes\", 1000)]\n",
    "l1.sort(key=lambda x: x[1]) \n",
    "print(l1)\n",
    "\n",
    "#Find the squares of numbers from 1 to 10\n",
    "\n",
    "print(\"squares of number from 1 to 10\",list(map(lambda x: x**2, range(1,11))))\n",
    "\n",
    "#Find the cube root of numbers from 1 to 10\n",
    "\n",
    "print(\"cube root of numbers from 1 to 10\",list(map(lambda x: x**(1/3), range(1,11))))\n",
    "\n",
    "#Check if a given number is even\n",
    "\n",
    "c3=lambda x: x%2==0\n",
    "c3(2)\n",
    "\n",
    "#Filter odd numbers from the given list.\n",
    "l2=[1,2,3,4,5,6,7,8,9,10]\n",
    "\n",
    "print(list(filter(lambda x: x%2!=0,l2)))\n",
    "\n",
    "#Sort a list of integers into positive and negative integers lists.\n",
    "l3=[1,2,3,4,5,6,-1,-2,-3,-4,-5,0]\n",
    "\n",
    "l4=list(filter(lambda x: x>0, l3))\n",
    "l4.sort()\n",
    "print(l4)\n",
    "\n",
    "l5=list(filter(lambda x: x<0, l3))\n",
    "l5.sort()\n",
    "print(l5)\n"
   ]
  },
  {
   "cell_type": "code",
   "execution_count": null,
   "id": "be5c207e-e153-4f22-a777-0e83ad820331",
   "metadata": {},
   "outputs": [],
   "source": []
  }
 ],
 "metadata": {
  "kernelspec": {
   "display_name": "Python 3 (ipykernel)",
   "language": "python",
   "name": "python3"
  },
  "language_info": {
   "codemirror_mode": {
    "name": "ipython",
    "version": 3
   },
   "file_extension": ".py",
   "mimetype": "text/x-python",
   "name": "python",
   "nbconvert_exporter": "python",
   "pygments_lexer": "ipython3",
   "version": "3.10.8"
  }
 },
 "nbformat": 4,
 "nbformat_minor": 5
}
