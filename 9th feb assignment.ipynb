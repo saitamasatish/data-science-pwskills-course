{
 "cells": [
  {
   "cell_type": "code",
   "execution_count": 3,
   "id": "7fd9fc3f-4b58-4a3a-843a-a62eb61176df",
   "metadata": {},
   "outputs": [],
   "source": [
    "\"\"\"1. Create a vehicle class with an init method having instance variables as name_of_vehicle, max_speed\n",
    "and average_of_vehicle.\"\"\"\n",
    "\n",
    "class vehicle:\n",
    "    def __init__(self,name_of_vehicle, max_speed, average_of_vehicle):\n",
    "        self.name_of_vehicle=name_of_vehicle\n",
    "        self.max_speed=max_speed\n",
    "        self.average_of_vehicle=average_of_vehicle\n"
   ]
  },
  {
   "cell_type": "code",
   "execution_count": 4,
   "id": "55f69788-13fa-495d-899c-053796d2c89b",
   "metadata": {},
   "outputs": [],
   "source": [
    "\"\"\" 2. Create a child class car from the vehicle class created in Que 1, which will inherit the vehicle class.\n",
    "Create a method named seating_capacity which takes capacity as an argument and returns the name of\n",
    "the vehicle and its seating capacity. \"\"\"\n",
    "\n",
    "\n",
    "class car(vehicle):\n",
    "    def seating_capaicty(self, capacity):\n",
    "        self.capacity=capacity\n",
    "        return self.name_of_vehicle,self.capacity"
   ]
  },
  {
   "cell_type": "code",
   "execution_count": 12,
   "id": "246808bf-fd8c-4481-8114-808da062a446",
   "metadata": {},
   "outputs": [
    {
     "name": "stdout",
     "output_type": "stream",
     "text": [
      "parent1 method\n",
      "parent2 method\n"
     ]
    }
   ],
   "source": [
    "\"\"\"3. What is multiple inheritance? Write a python code to demonstrate multiple inheritance.\"\"\"\n",
    "\n",
    "\"\"\"\" multiple inheritance is a type of inheritance in which the child class inherits properties from multiple parent classes\"\"\"\n",
    "\n",
    "class parent1:\n",
    "    def parent1_method(self):\n",
    "        print(\"parent1 method\")\n",
    "        \n",
    "class parent2:\n",
    "    def parent2_method(self):\n",
    "        print(\"parent2 method\")\n",
    "        \n",
    "class child(parent1, parent2):\n",
    "    pass\n",
    "\n",
    "ob1=child()\n",
    "ob1.parent1_method()\n",
    "ob1.parent2_method()"
   ]
  },
  {
   "cell_type": "code",
   "execution_count": 16,
   "id": "6c03e9b2-cabc-4538-890e-7d7caf6b3312",
   "metadata": {},
   "outputs": [
    {
     "name": "stdout",
     "output_type": "stream",
     "text": [
      "xyz\n",
      "pqr\n"
     ]
    }
   ],
   "source": [
    "\"\"\" 4. What are getter and setter in python? Create a class and create a getter and a setter method in this\n",
    "class.\"\"\"\n",
    "\n",
    "class student:\n",
    "    def __init__(self,name, course, age):\n",
    "        self.__name=name\n",
    "        self.__course=course\n",
    "        self.__age=age\n",
    "    \n",
    "    @property#getter method\n",
    "    def name(self):\n",
    "        return self.__name\n",
    "    @name.setter\n",
    "    def name(self,name):\n",
    "        self.__name=name\n",
    "\n",
    "ob1= student(\"xyz\",\"datascience\",20)\n",
    "#using getter\n",
    "print(ob1.name)\n",
    "#using setter\n",
    "ob1.name=\"pqr\"\n",
    "print(ob1.name)"
   ]
  },
  {
   "cell_type": "code",
   "execution_count": 3,
   "id": "edc9ed94-75c0-4bf6-9096-11c2b2cc1d7f",
   "metadata": {},
   "outputs": [],
   "source": [
    "\"\"\"5. What is method overriding in python? Write a python code to demonstrate method overriding.\"\"\"\n",
    "\n",
    "\"\"\"method overriding in python simply means creating functions with the same names but with different functionalities.\n",
    "in python method overriding can not be done in the same class, it has to be done using the inheritance concept between parent class and student class\"\"\"\n",
    "\n",
    "class parentclass:\n",
    "    def method(self):\n",
    "        print(\"inside parent method\")\n",
    "\n",
    "class childclass(parentclass):\n",
    "    def method(self):\n",
    "        print(\"inside child method\")\n",
    "    \n",
    "\n",
    "ob1=parentclass()\n",
    "ob2=childclass()"
   ]
  },
  {
   "cell_type": "code",
   "execution_count": 5,
   "id": "bc308612-1624-4bfe-82bb-b8d4c3ffb597",
   "metadata": {},
   "outputs": [
    {
     "name": "stdout",
     "output_type": "stream",
     "text": [
      "inside parent method\n",
      "inside child method\n"
     ]
    }
   ],
   "source": [
    "ob1.method()\n",
    "ob2.method()"
   ]
  },
  {
   "cell_type": "code",
   "execution_count": null,
   "id": "8026bc7a-b4f2-4465-a5aa-3a13b49cc3cf",
   "metadata": {},
   "outputs": [],
   "source": []
  }
 ],
 "metadata": {
  "kernelspec": {
   "display_name": "Python 3 (ipykernel)",
   "language": "python",
   "name": "python3"
  },
  "language_info": {
   "codemirror_mode": {
    "name": "ipython",
    "version": 3
   },
   "file_extension": ".py",
   "mimetype": "text/x-python",
   "name": "python",
   "nbconvert_exporter": "python",
   "pygments_lexer": "ipython3",
   "version": "3.10.8"
  }
 },
 "nbformat": 4,
 "nbformat_minor": 5
}
